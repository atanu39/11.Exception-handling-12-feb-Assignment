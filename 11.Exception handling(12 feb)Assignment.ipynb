{
 "cells": [
  {
   "cell_type": "markdown",
   "id": "76ee3d6a-31fd-4a75-8996-bddfa94d13a1",
   "metadata": {},
   "source": [
    "# Q1.What is an exception in Python? write the difference between exception and syntax error."
   ]
  },
  {
   "cell_type": "markdown",
   "id": "85b95e1f-f61a-4980-a52c-14aa7bc23a38",
   "metadata": {},
   "source": [
    "# Ans :"
   ]
  },
  {
   "cell_type": "markdown",
   "id": "7637adb9-0638-4532-9dfb-9ca086515712",
   "metadata": {},
   "source": [
    "## In Python, an exception is an error that occurs during the execution of a program. When a Python interpreter encounters an error during runtime, it raises an exception, which is a signal that an error has occurred and the program execution cannot continue as expected. Exceptions can be caused by a wide range of issues, including invalid input, division by zero, and incorrect function arguments.\n",
    "\n",
    "## On the other hand, a syntax error is an error that occurs during the parsing of a program, which means that the interpreter cannot understand the code because it violates the rules of the programming language's syntax. A syntax error is typically detected before a program is run, as the interpreter can identify the problem when it tries to compile or parse the code. Syntax errors can include missing brackets, incorrect indentation, or using a keyword as a variable name.\n",
    "\n",
    "## The main difference between an exception and a syntax error is that a syntax error is caused by a mistake in the code itself, whereas an exception is caused by an unexpected problem during program execution. Additionally, syntax errors are typically detected before the program is run, whereas exceptions are only raised during runtime. When an exception is raised, Python provides a traceback that indicates where the error occurred in the program, which can be helpful in identifying and fixing the problem."
   ]
  },
  {
   "cell_type": "markdown",
   "id": "4a961fd3-bb32-4e34-90d1-1ceceac2617e",
   "metadata": {},
   "source": [
    "# Q2.What happens when an exception is not handled?Explain with an example."
   ]
  },
  {
   "cell_type": "markdown",
   "id": "36152ee8-0925-4080-91fd-7c1b94c6406b",
   "metadata": {},
   "source": [
    "# Ans :"
   ]
  },
  {
   "cell_type": "markdown",
   "id": "e29470b5-982b-4a6f-b1bd-f3c910e7a536",
   "metadata": {},
   "source": [
    "## When an exception is not handled in Python, it will cause the program to terminate abruptly and display an error message (a traceback) that shows the location where the exception was raised. This can be problematic because it leaves the program in an inconsistent state, and any further processing may be unreliable or incorrect.\n",
    "\n",
    "## For example, consider the following Python code:"
   ]
  },
  {
   "cell_type": "code",
   "execution_count": 2,
   "id": "a905aca5-2921-4fb2-b576-9d650c55734d",
   "metadata": {},
   "outputs": [
    {
     "ename": "ZeroDivisionError",
     "evalue": "division by zero",
     "output_type": "error",
     "traceback": [
      "\u001b[0;31m---------------------------------------------------------------------------\u001b[0m",
      "\u001b[0;31mZeroDivisionError\u001b[0m                         Traceback (most recent call last)",
      "Cell \u001b[0;32mIn[2], line 6\u001b[0m\n\u001b[1;32m      4\u001b[0m x \u001b[38;5;241m=\u001b[39m \u001b[38;5;241m5\u001b[39m\n\u001b[1;32m      5\u001b[0m y \u001b[38;5;241m=\u001b[39m \u001b[38;5;241m0\u001b[39m\n\u001b[0;32m----> 6\u001b[0m result \u001b[38;5;241m=\u001b[39m \u001b[43mdivide_numbers\u001b[49m\u001b[43m(\u001b[49m\u001b[43mx\u001b[49m\u001b[43m,\u001b[49m\u001b[43m \u001b[49m\u001b[43my\u001b[49m\u001b[43m)\u001b[49m\n\u001b[1;32m      7\u001b[0m \u001b[38;5;28mprint\u001b[39m(result)\n",
      "Cell \u001b[0;32mIn[2], line 2\u001b[0m, in \u001b[0;36mdivide_numbers\u001b[0;34m(a, b)\u001b[0m\n\u001b[1;32m      1\u001b[0m \u001b[38;5;28;01mdef\u001b[39;00m \u001b[38;5;21mdivide_numbers\u001b[39m(a, b):\n\u001b[0;32m----> 2\u001b[0m     \u001b[38;5;28;01mreturn\u001b[39;00m \u001b[43ma\u001b[49m\u001b[43m \u001b[49m\u001b[38;5;241;43m/\u001b[39;49m\u001b[43m \u001b[49m\u001b[43mb\u001b[49m\n",
      "\u001b[0;31mZeroDivisionError\u001b[0m: division by zero"
     ]
    }
   ],
   "source": [
    "def divide_numbers(a, b):\n",
    "    return a / b\n",
    "\n",
    "x = 5\n",
    "y = 0\n",
    "result = divide_numbers(x, y)\n",
    "print(result)\n"
   ]
  },
  {
   "cell_type": "markdown",
   "id": "d7e2cea6-2169-475e-9901-bfd7e10428df",
   "metadata": {},
   "source": [
    "## In this code, the divide_numbers function attempts to divide two numbers, but it does not handle the case where the second argument b is zero. If b is zero, a ZeroDivisionError exception will be raised, and since there is no exception handler defined, the program will terminate with an error message.As we can see from the traceback, the program terminated due to a ZeroDivisionError exception that was raised by the divide_numbers function. This is an example of an unhandled exception, as we did not provide any code to handle this particular type of error.\n",
    "\n",
    "## To avoid this kind of issue, it's important to always include exception handling code in your programs, especially when working with user input or other external data that may be unpredictable or unreliable. This will help ensure that your program can recover gracefully from errors and continue to execute correctly."
   ]
  },
  {
   "cell_type": "markdown",
   "id": "4db0490e-226a-4fe5-98df-afbe4a9a8ebe",
   "metadata": {},
   "source": [
    "# Q3.Which Python statements are used to catch and handle exception? explain with an example."
   ]
  },
  {
   "cell_type": "markdown",
   "id": "57972c09-dd1c-4670-9775-eb9e275ccf75",
   "metadata": {},
   "source": [
    "# Ans :"
   ]
  },
  {
   "cell_type": "markdown",
   "id": "058f0cf1-bd2b-496b-b4c9-28470ec64db9",
   "metadata": {},
   "source": [
    "## In Python, we use try and except statements to catch and handle exceptions. The try block contains the code that might raise an exception, and the except block defines how to handle the exception if it is raised.\n",
    "\n",
    "## The basic syntax of a try/except statement in Python is as follows:"
   ]
  },
  {
   "cell_type": "code",
   "execution_count": 4,
   "id": "29be4831-d23c-4b7f-9451-eadc74bfc231",
   "metadata": {},
   "outputs": [],
   "source": [
    "#try:\n",
    "    # Code that might raise an exception\n",
    "#except ExceptionType:\n",
    "    # Code to handle the exception\n"
   ]
  },
  {
   "cell_type": "markdown",
   "id": "14b71341-592f-4b9c-bd63-228b6c23d52c",
   "metadata": {},
   "source": [
    "## Here, 'ExceptionType' is the type of exception that we want to catch and handle. If an exception of this type is raised in the try block, the interpreter will jump to the except block and execute the code there, instead of terminating the program."
   ]
  },
  {
   "cell_type": "code",
   "execution_count": 5,
   "id": "3dcaddb2-dd44-45b3-b1b5-4d418c6a4859",
   "metadata": {},
   "outputs": [
    {
     "name": "stdout",
     "output_type": "stream",
     "text": [
      "File not found!\n"
     ]
    }
   ],
   "source": [
    "#Example:\n",
    "try:\n",
    "    with open(\"file.txt\", \"r\") as f:\n",
    "        contents = f.read()\n",
    "        print(contents)\n",
    "except FileNotFoundError:\n",
    "    print(\"File not found!\")\n"
   ]
  },
  {
   "cell_type": "markdown",
   "id": "2858919e-792f-407d-9a88-fb43bef51a0f",
   "metadata": {},
   "source": [
    "## In this code, we use a try/except statement to catch the FileNotFoundError exception that might be raised if the specified file is not found. If this exception is raised, the program will jump to the except block and print the message \"File not found!\" instead of terminating.\n",
    "\n",
    "## Now let's consider what happens if the file is found and can be opened successfully:\n",
    "## In this case, the try block will execute without any errors, and the contents of the file will be printed to the console as expected.\n",
    "\n",
    "## In summary, the try/except statements provide a way to gracefully handle exceptions in Python code, allowing programs to recover from errors and continue to execute correctly. By catching and handling exceptions, we can make our code more robust and reliable."
   ]
  },
  {
   "cell_type": "markdown",
   "id": "a8b7a4c4-0d78-48b3-b1d4-1e80573450fa",
   "metadata": {},
   "source": [
    "# Q4.Explain with an example:\n",
    "        a.try and else\n",
    "        b.finally\n",
    "        c.raise"
   ]
  },
  {
   "cell_type": "markdown",
   "id": "f34c9827-4452-46c5-84bb-e957435719eb",
   "metadata": {},
   "source": [
    "# Ans :"
   ]
  },
  {
   "cell_type": "markdown",
   "id": "7ee27d97-f662-49c0-9214-44b3e29f8b35",
   "metadata": {},
   "source": [
    "## a.try and else : try and else are control flow statements in Python used to handle exceptions. When a block of code is enclosed within a try block, Python attempts to execute it. If an exception occurs during the execution of this block, Python raises an exception and looks for an except block to handle it.\n",
    "\n",
    "## If an else block is present, it is executed if the try block completes without any exceptions being raised.  "
   ]
  },
  {
   "cell_type": "code",
   "execution_count": 1,
   "id": "ce84a5a5-5bb1-4256-b0d4-15630e3c2e69",
   "metadata": {},
   "outputs": [
    {
     "name": "stdin",
     "output_type": "stream",
     "text": [
      "Enter a number:  10\n"
     ]
    },
    {
     "name": "stdout",
     "output_type": "stream",
     "text": [
      "Result is: 1.0\n"
     ]
    }
   ],
   "source": [
    "try:\n",
    "    num = int(input(\"Enter a number: \"))\n",
    "    result = 10 / num\n",
    "except ZeroDivisionError:\n",
    "    print(\"Cannot divide by zero!\")\n",
    "else:\n",
    "    print(\"Result is:\", result)\n"
   ]
  },
  {
   "cell_type": "markdown",
   "id": "a37c9fb8-17ad-4562-ae74-2fe8806a8e34",
   "metadata": {},
   "source": [
    "## b.finally : finally is another control flow statement in Python used to define a block of code that will be executed regardless of whether an exception has been raised or not. This block is usually used for releasing resources that were acquired within the try block, such as file handles or network connections. "
   ]
  },
  {
   "cell_type": "code",
   "execution_count": 2,
   "id": "6eb18487-dfa7-4cb8-91c9-3c73e9c857d1",
   "metadata": {},
   "outputs": [],
   "source": [
    "try:\n",
    "    file = open(\"example.txt\", \"r\")\n",
    "    # do some operations on file\n",
    "except:\n",
    "    print(\"An exception occurred!\")\n",
    "finally:\n",
    "    file.close()  # close the file, regardless of whether an exception was raised or not\n"
   ]
  },
  {
   "cell_type": "markdown",
   "id": "59effc42-2252-4ece-a957-4d78dee35413",
   "metadata": {},
   "source": [
    "## c.raise : raise is a statement in Python used to raise an exception. When an exception is raised using the raise statement, the Python interpreter stops the current flow of execution and looks for an except block to handle the exception."
   ]
  },
  {
   "cell_type": "code",
   "execution_count": 4,
   "id": "e572a8e9-c25f-4b46-90f2-8c4df1e81d4c",
   "metadata": {},
   "outputs": [
    {
     "name": "stdout",
     "output_type": "stream",
     "text": [
      "Cannot divide by zero!\n"
     ]
    }
   ],
   "source": [
    "def divide(num1, num2):\n",
    "    if num2 == 0:\n",
    "        raise ZeroDivisionError(\"Cannot divide by zero!\")\n",
    "    else:\n",
    "        return num1 / num2\n",
    "\n",
    "try:\n",
    "    result = divide(10, 0)\n",
    "except ZeroDivisionError as e:\n",
    "    print(e)\n"
   ]
  },
  {
   "cell_type": "markdown",
   "id": "2a5703f5-24b1-4fd6-8ac2-191a4623db63",
   "metadata": {},
   "source": [
    "## In this example, the divide function raises a ZeroDivisionError exception if the second argument is zero. The try block attempts to call the divide function with arguments 10 and 0, which raises an exception. The except block then handles the exception by printing the error message."
   ]
  },
  {
   "cell_type": "markdown",
   "id": "37ecab66-c813-4274-8bad-3c84d5071689",
   "metadata": {},
   "source": [
    "# Q5.What are custom exception in Python ? why do we need custom exception ? explain with an example."
   ]
  },
  {
   "cell_type": "markdown",
   "id": "f68991ee-2009-493a-9ae9-3b8acc48096d",
   "metadata": {},
   "source": [
    "# Ans:"
   ]
  },
  {
   "cell_type": "markdown",
   "id": "dc0d783e-ca01-43fa-9490-0e759ec11499",
   "metadata": {},
   "source": [
    "## In Python, custom exceptions are user-defined exceptions that can be created by extending the base Exception class. Custom exceptions are useful when the existing built-in exceptions are not sufficient to handle certain errors or exceptional situations that may occur in a program.\n",
    "\n",
    "## We need custom exceptions to make our code more readable and easier to understand. By defining custom exceptions, we can provide more specific information about the type of error that has occurred, which can help in debugging and troubleshooting. Custom exceptions can also make our code more modular and reusable by encapsulating error-handling logic in a single place.\n",
    "\n",
    "## Here's an example of how to define and use a custom exception in Python:"
   ]
  },
  {
   "cell_type": "code",
   "execution_count": 5,
   "id": "f07b36f3-48e4-4837-8b2c-74d09338bf31",
   "metadata": {},
   "outputs": [
    {
     "name": "stdin",
     "output_type": "stream",
     "text": [
      "Enter your age:  400\n"
     ]
    },
    {
     "name": "stdout",
     "output_type": "stream",
     "text": [
      "Age 400 is invalid. Please enter a valid age.\n"
     ]
    }
   ],
   "source": [
    "class InvalidAgeException(Exception):\n",
    "    def __init__(self, age):\n",
    "        self.age = age\n",
    "        self.message = f\"Age {age} is invalid. Please enter a valid age.\"\n",
    "\n",
    "def get_user_age():\n",
    "    age = int(input(\"Enter your age: \"))\n",
    "    if age < 0 or age > 120:\n",
    "        raise InvalidAgeException(age)\n",
    "    return age\n",
    "\n",
    "try:\n",
    "    age = get_user_age()\n",
    "    print(f\"Your age is {age}.\")\n",
    "except InvalidAgeException as e:\n",
    "    print(e.message)\n"
   ]
  },
  {
   "cell_type": "markdown",
   "id": "c4b1a1d6-36f5-4e34-a89a-4ca992fbae74",
   "metadata": {},
   "source": [
    "## In this example, we have defined a custom exception called InvalidAgeException that takes an age as a parameter. The exception is raised if the age entered by the user is less than 0 or greater than 120.\n",
    "\n",
    "## The get_user_age() function prompts the user to enter their age and checks whether it is within the valid range. If the age is invalid, the InvalidAgeException is raised with the invalid age as a parameter.\n",
    "\n",
    "## The try block calls the get_user_age() function and prints the user's age if it is valid. If the age is invalid, the except block catches the InvalidAgeException and prints the error message defined in the exception."
   ]
  },
  {
   "cell_type": "markdown",
   "id": "01078e22-b6e6-4152-bb7f-e5b8a604532f",
   "metadata": {},
   "source": [
    "# Q6.Create a custom exception class.. use this class to handle an exception."
   ]
  },
  {
   "cell_type": "markdown",
   "id": "9ae029a3-a2fc-4910-ac67-a8963f194c24",
   "metadata": {},
   "source": [
    "# Ans :"
   ]
  },
  {
   "cell_type": "markdown",
   "id": "5e79e0a7-7abb-400a-bb7a-5121e3025acc",
   "metadata": {},
   "source": [
    "## Example of creating a custom exception class and using it to handle an exception:"
   ]
  },
  {
   "cell_type": "code",
   "execution_count": 6,
   "id": "32f704a7-4867-4e5b-bdf4-f5f619cfa26b",
   "metadata": {},
   "outputs": [
    {
     "name": "stdout",
     "output_type": "stream",
     "text": [
      "Cannot calculate square root of a negative number\n"
     ]
    }
   ],
   "source": [
    "class NegativeNumberError(Exception):\n",
    "    def __init__(self, message):\n",
    "        super().__init__(message)\n",
    "\n",
    "def square_root(number):\n",
    "    if number < 0:\n",
    "        raise NegativeNumberError(\"Cannot calculate square root of a negative number\")\n",
    "    else:\n",
    "        return number ** 0.5\n",
    "\n",
    "try:\n",
    "    num = -4\n",
    "    result = square_root(num)\n",
    "    print(f\"The square root of {num} is {result}\")\n",
    "except NegativeNumberError as e:\n",
    "    print(e)\n"
   ]
  },
  {
   "cell_type": "markdown",
   "id": "292b5dd3-6692-4076-b155-072ebd7df52c",
   "metadata": {},
   "source": [
    "## In this example, we have defined a custom exception class called NegativeNumberError that inherits from the Exception base class. The __init__ method takes a message parameter which is passed to the base class constructor to set the error message.We have also defined a function called square_root that takes a number as a parameter and calculates its square root. If the number is negative, the function raises a NegativeNumberError with a custom error message.In the try block, we call the square_root function with a negative number (-4). Since the number is negative, the function raises a NegativeNumberError. The except block catches the NegativeNumberError and prints the error message defined in the exception."
   ]
  },
  {
   "cell_type": "code",
   "execution_count": null,
   "id": "db7a8375-7de6-41d4-b8b6-746d6988f0ff",
   "metadata": {},
   "outputs": [],
   "source": []
  }
 ],
 "metadata": {
  "kernelspec": {
   "display_name": "Python 3 (ipykernel)",
   "language": "python",
   "name": "python3"
  },
  "language_info": {
   "codemirror_mode": {
    "name": "ipython",
    "version": 3
   },
   "file_extension": ".py",
   "mimetype": "text/x-python",
   "name": "python",
   "nbconvert_exporter": "python",
   "pygments_lexer": "ipython3",
   "version": "3.10.8"
  }
 },
 "nbformat": 4,
 "nbformat_minor": 5
}
